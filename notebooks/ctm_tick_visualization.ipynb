{
 "cells": [
  {
   "cell_type": "markdown",
   "metadata": {},
   "source": [
    "# CTM Tick-wise Latent Trace Visualization\n",
    "\n",
    "This notebook loads tick traces from a trained CTM-ACT policy and visualizes neuron activation/synchronization events."
   ]
  },
  {
   "cell_type": "code",
   "metadata": {},
   "source": [
    "# Example: load tick traces\n",
    "import numpy as np\n",
    "import matplotlib.pyplot as plt\n",
    "\n",
    "# tick_traces = np.load('tick_traces.npy')  # shape: [layer, batch, neuron, ticks]\n",
    "# For demo:\n",
    "tick_traces = np.random.rand(4, 1, 128, 5)\n",
    "\n",
    "layer = 0\n",
    "neuron_idxs = [0, 1, 2, 3]\n",
    "for n in neuron_idxs:\n",
    "    plt.plot(tick_traces[layer, 0, n], label=f'Neuron {n}')\n",
    "plt.xlabel('Tick')\n",
    "plt.ylabel('Activation')\n",
    "plt.title('Neuron Activation Across Ticks (Layer 0)')\n",
    "plt.legend()\n",
    "plt.show()"
   ]
  }
 ],
 "metadata": {
  "kernelspec": {
   "display_name": "Python 3",
   "language": "python",
   "name": "python3"
  },
  "language_info": {
   "name": "python",
   "version": ""
  }
 },
 "nbformat": 4,
 "nbformat_minor": 5
}